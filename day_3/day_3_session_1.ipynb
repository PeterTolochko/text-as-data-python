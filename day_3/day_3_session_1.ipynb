{
 "cells": [
  {
   "cell_type": "markdown",
   "id": "cb8462b3-724c-457c-bf85-617380bdb0df",
   "metadata": {},
   "source": [
    "## Load the corpus\n",
    "\n",
    "We use a labeled Movie Review Dataset to implement a simple supervised machine learning approach. The dataset contains 5,331 positive and 5,331 negative processed sentences from Rotten Tomatoes movie reviews.\n",
    "Our goal is to train a classifier that can predict whether a sentence is positive or negative.\n",
    "\n",
    "This data was first used in Bo Pang and Lillian Lee, ``Seeing stars: Exploiting class relationships for sentiment categorization with respect to rating scales.'', Proceedings of the ACL, 2005. Please find more information on the dataset here.\n",
    "https://huggingface.co/datasets/rotten_tomatoes\n",
    "\n",
    "Data labeling: \"the movie-review “snippets” (a striking extract usually one sentence long) downloaded from www.rottentomatoes.com; each\n",
    "snippet was labeled with its source review’s label\n",
    "(positive or negative) as provided by Rotten Tomatoes.\" (Pang & Lee, 2005) p.119)"
   ]
  },
  {
   "cell_type": "code",
   "execution_count": 7,
   "id": "a1e0c50a-f765-4f3f-9bd0-78e784ee5390",
   "metadata": {},
   "outputs": [
    {
     "name": "stdout",
     "output_type": "stream",
     "text": [
      "Requirement already satisfied: scikit-learn in /Users/petrotolochko/miniconda3/envs/text_as_data/lib/python3.12/site-packages (1.5.2)\n",
      "Collecting nltk\n",
      "  Downloading nltk-3.9.1-py3-none-any.whl.metadata (2.9 kB)\n",
      "Requirement already satisfied: numpy>=1.19.5 in /Users/petrotolochko/miniconda3/envs/text_as_data/lib/python3.12/site-packages (from scikit-learn) (2.1.3)\n",
      "Requirement already satisfied: scipy>=1.6.0 in /Users/petrotolochko/miniconda3/envs/text_as_data/lib/python3.12/site-packages (from scikit-learn) (1.14.1)\n",
      "Requirement already satisfied: joblib>=1.2.0 in /Users/petrotolochko/miniconda3/envs/text_as_data/lib/python3.12/site-packages (from scikit-learn) (1.4.2)\n",
      "Requirement already satisfied: threadpoolctl>=3.1.0 in /Users/petrotolochko/miniconda3/envs/text_as_data/lib/python3.12/site-packages (from scikit-learn) (3.5.0)\n",
      "Collecting click (from nltk)\n",
      "  Using cached click-8.1.7-py3-none-any.whl.metadata (3.0 kB)\n",
      "Collecting regex>=2021.8.3 (from nltk)\n",
      "  Downloading regex-2024.11.6-cp312-cp312-macosx_11_0_arm64.whl.metadata (40 kB)\n",
      "Collecting tqdm (from nltk)\n",
      "  Downloading tqdm-4.67.1-py3-none-any.whl.metadata (57 kB)\n",
      "Downloading nltk-3.9.1-py3-none-any.whl (1.5 MB)\n",
      "\u001b[2K   \u001b[38;2;114;156;31m━━━━━━━━━━━━━━━━━━━━━━━━━━━━━━━━━━━━━━━━\u001b[0m \u001b[32m1.5/1.5 MB\u001b[0m \u001b[31m8.1 MB/s\u001b[0m eta \u001b[36m0:00:00\u001b[0m\n",
      "\u001b[?25hDownloading regex-2024.11.6-cp312-cp312-macosx_11_0_arm64.whl (284 kB)\n",
      "Using cached click-8.1.7-py3-none-any.whl (97 kB)\n",
      "Downloading tqdm-4.67.1-py3-none-any.whl (78 kB)\n",
      "Installing collected packages: tqdm, regex, click, nltk\n",
      "Successfully installed click-8.1.7 nltk-3.9.1 regex-2024.11.6 tqdm-4.67.1\n"
     ]
    }
   ],
   "source": [
    "!pip install scikit-learn nltk\n",
    "\n",
    "import pandas as pd\n",
    "import numpy as np\n",
    "from sklearn.feature_extraction.text import CountVectorizer\n",
    "from sklearn.model_selection import train_test_split\n",
    "from nltk.tokenize import word_tokenize\n",
    "from nltk.corpus import stopwords\n",
    "from nltk.stem import PorterStemmer\n",
    "import nltk\n"
   ]
  },
  {
   "cell_type": "code",
   "execution_count": 8,
   "id": "1ed74932-7404-4872-b556-7bed07062125",
   "metadata": {},
   "outputs": [
    {
     "name": "stdout",
     "output_type": "stream",
     "text": [
      "                                               value  polarity\n",
      "0  the rock is destined to be the 21st century's ...  positive\n",
      "1  the gorgeously elaborate continuation of \" the...  positive\n",
      "2                     effective but too-tepid biopic  positive\n",
      "3  if you sometimes like to go to the movies to h...  positive\n",
      "4  emerges as something rare , an issue movie tha...  positive\n",
      "<class 'pandas.core.frame.DataFrame'>\n",
      "RangeIndex: 10662 entries, 0 to 10661\n",
      "Data columns (total 2 columns):\n",
      " #   Column    Non-Null Count  Dtype \n",
      "---  ------    --------------  ----- \n",
      " 0   value     10662 non-null  object\n",
      " 1   polarity  10662 non-null  object\n",
      "dtypes: object(2)\n",
      "memory usage: 166.7+ KB\n",
      "None\n"
     ]
    }
   ],
   "source": [
    "\n",
    "\n",
    "# Load the dataset with specified encoding\n",
    "url = \"https://raw.githubusercontent.com/fabiennelind/text-as-data-in-R/main/data/rotten_tomatoes.csv\"\n",
    "reviews = pd.read_csv(url, encoding='latin1')  # Use 'latin1' encoding for non-UTF-8 characters\n",
    "\n",
    "# Inspect the data\n",
    "print(reviews.head())  # Display the first few rows\n",
    "print(reviews.info())  # General information about the dataset\n"
   ]
  },
  {
   "cell_type": "markdown",
   "id": "cd85bb61-e552-4e8c-880e-27313cc831a2",
   "metadata": {},
   "source": [
    "# Inspecting the data"
   ]
  },
  {
   "cell_type": "code",
   "execution_count": 9,
   "id": "f73b7637-a396-4ab4-b6f9-5d839c283b8e",
   "metadata": {},
   "outputs": [
    {
     "name": "stdout",
     "output_type": "stream",
     "text": [
      "Index(['value', 'polarity'], dtype='object')\n",
      "<class 'pandas.core.series.Series'>\n",
      "polarity\n",
      "positive    5331\n",
      "negative    5331\n",
      "Name: count, dtype: int64\n",
      "<class 'pandas.core.series.Series'>\n"
     ]
    }
   ],
   "source": [
    "# View column names\n",
    "print(reviews.columns)\n",
    "\n",
    "# Rename the column 'value' to 'text'\n",
    "reviews.rename(columns={'value': 'text'}, inplace=True)\n",
    "\n",
    "# Check the class of the 'text' column\n",
    "print(type(reviews['text']))\n",
    "\n",
    "# Check the distribution of the outcome variable ('polarity')\n",
    "print(reviews['polarity'].value_counts())\n",
    "\n",
    "# Check the class of the 'polarity' column\n",
    "print(type(reviews['polarity']))\n"
   ]
  },
  {
   "cell_type": "code",
   "execution_count": 11,
   "id": "40337031-aebf-43a1-9712-daaee26ed97e",
   "metadata": {},
   "outputs": [
    {
     "name": "stderr",
     "output_type": "stream",
     "text": [
      "[nltk_data] Downloading package punkt to\n",
      "[nltk_data]     /Users/petrotolochko/nltk_data...\n",
      "[nltk_data]   Package punkt is already up-to-date!\n",
      "[nltk_data] Downloading package stopwords to\n",
      "[nltk_data]     /Users/petrotolochko/nltk_data...\n",
      "[nltk_data]   Package stopwords is already up-to-date!\n",
      "[nltk_data] Downloading package punkt_tab to\n",
      "[nltk_data]     /Users/petrotolochko/nltk_data...\n",
      "[nltk_data]   Unzipping tokenizers/punkt_tab.zip.\n"
     ]
    },
    {
     "name": "stdout",
     "output_type": "stream",
     "text": [
      "DFM Shape (Full): (10662, 12126)\n",
      "DFM Shape (Trimmed): (10662, 7241)\n",
      "Training Set Shape: (8529, 7241)\n",
      "Test Set Shape: (2133, 7241)\n"
     ]
    }
   ],
   "source": [
    "# Download required NLTK data files\n",
    "nltk.download('punkt')\n",
    "nltk.download('stopwords')\n",
    "nltk.download('punkt_tab')\n",
    "\n",
    "# Create an ID column for each document\n",
    "reviews['id_numeric'] = range(1, len(reviews) + 1)\n",
    "\n",
    "# Split data into training and test sets (80% train, 20% test)\n",
    "np.random.seed(657)  # Set random seed for reproducibility\n",
    "id_train, id_test = train_test_split(reviews['id_numeric'], test_size=0.2, random_state=657)\n",
    "\n",
    "# Tokenization, stopword removal, and stemming\n",
    "stop_words = set(stopwords.words('english'))\n",
    "stemmer = PorterStemmer()\n",
    "\n",
    "def preprocess(text):\n",
    "    tokens = word_tokenize(text)  # Tokenize the text\n",
    "    tokens = [word for word in tokens if word.isalpha()]  # Remove punctuation and numbers\n",
    "    tokens = [word for word in tokens if word not in stop_words]  # Remove stopwords\n",
    "    tokens = [stemmer.stem(word) for word in tokens]  # Apply stemming\n",
    "    return tokens\n",
    "\n",
    "# Apply preprocessing to the 'text' column\n",
    "reviews['processed_text'] = reviews['text'].apply(preprocess)\n",
    "\n",
    "# Convert processed text into a document-term matrix (DFM)\n",
    "vectorizer = CountVectorizer(analyzer=lambda x: x)  # Pass pre-tokenized text\n",
    "dfm_reviews = vectorizer.fit_transform(reviews['processed_text'])\n",
    "\n",
    "# Trim the DFM by minimum document frequency (min_docfreq=2)\n",
    "min_docfreq = 2\n",
    "dfm_trimmed = dfm_reviews[:, np.array((dfm_reviews > 0).sum(axis=0)).flatten() >= min_docfreq]\n",
    "\n",
    "# Split the DFM into training and test sets\n",
    "train_mask = reviews['id_numeric'].isin(id_train)\n",
    "test_mask = reviews['id_numeric'].isin(id_test)\n",
    "\n",
    "dfm_train = dfm_trimmed[train_mask, :]\n",
    "dfm_test = dfm_trimmed[test_mask, :]\n",
    "\n",
    "# Summary of results\n",
    "print(\"DFM Shape (Full):\", dfm_reviews.shape)\n",
    "print(\"DFM Shape (Trimmed):\", dfm_trimmed.shape)\n",
    "print(\"Training Set Shape:\", dfm_train.shape)\n",
    "print(\"Test Set Shape:\", dfm_test.shape)\n"
   ]
  },
  {
   "cell_type": "markdown",
   "id": "c8a7756a-5c5b-47c1-b576-efc6cb1948d7",
   "metadata": {},
   "source": [
    "\n",
    "# Training\n"
   ]
  },
  {
   "cell_type": "code",
   "execution_count": 14,
   "id": "3c214b50-0e80-45d0-adf7-024fe7cdab98",
   "metadata": {},
   "outputs": [
    {
     "name": "stdout",
     "output_type": "stream",
     "text": [
      "Classes: ['negative' 'positive']\n",
      "Class Log Prior (from docfreq): [-0.69209251 -0.69420296]\n"
     ]
    }
   ],
   "source": [
    "from sklearn.naive_bayes import MultinomialNB\n",
    "from sklearn.preprocessing import LabelEncoder\n",
    "\n",
    "# Encode the target variable (polarity) as numerical values\n",
    "label_encoder = LabelEncoder()\n",
    "y_train = label_encoder.fit_transform(reviews.loc[train_mask, 'polarity'])\n",
    "y_test = label_encoder.transform(reviews.loc[test_mask, 'polarity'])\n",
    "\n",
    "# Create a Multinomial Naive Bayes model\n",
    "# Scikit-learn's MultinomialNB uses term frequencies directly\n",
    "model_nb = MultinomialNB()\n",
    "\n",
    "# model_nb = MultinomialNB(class_prior=[0.5, 0.5])  # Example: Equal priors\n",
    "\n",
    "\n",
    "# Fit the model on the training data\n",
    "model_nb.fit(dfm_train, y_train)\n",
    "\n",
    "# Model summary\n",
    "print(\"Classes:\", label_encoder.classes_)\n",
    "print(\"Class Log Prior (from docfreq):\", model_nb.class_log_prior_)\n"
   ]
  },
  {
   "cell_type": "code",
   "execution_count": 15,
   "id": "c13bcdf3-99a0-4ee6-8311-6c8870928a22",
   "metadata": {},
   "outputs": [
    {
     "name": "stdout",
     "output_type": "stream",
     "text": [
      "Classes: ['negative' 'positive']\n"
     ]
    }
   ],
   "source": [
    "from sklearn.svm import LinearSVC\n",
    "\n",
    "# Encode the target variable (polarity) as numerical values\n",
    "label_encoder = LabelEncoder()\n",
    "y_train = label_encoder.fit_transform(reviews.loc[train_mask, 'polarity'])\n",
    "y_test = label_encoder.transform(reviews.loc[test_mask, 'polarity'])\n",
    "\n",
    "# Create and train the SVM model\n",
    "model_svm = LinearSVC()  # Linear kernel SVM suitable for high-dimensional sparse data\n",
    "model_svm.fit(dfm_train, y_train)\n",
    "\n",
    "# Model summary\n",
    "print(\"Classes:\", label_encoder.classes_)"
   ]
  },
  {
   "cell_type": "markdown",
   "id": "056463cd-d684-4bef-97a6-fb7b0a5dcf2b",
   "metadata": {},
   "source": [
    "# Predict for the test set (NB)\n"
   ]
  },
  {
   "cell_type": "code",
   "execution_count": 16,
   "id": "232e8793-3142-476c-833c-1e91d9afae9d",
   "metadata": {},
   "outputs": [
    {
     "name": "stdout",
     "output_type": "stream",
     "text": [
      "Naive Bayes Predictions Summary:\n",
      "negative    1086\n",
      "positive    1047\n",
      "Name: count, dtype: int64\n"
     ]
    }
   ],
   "source": [
    "# Predict for the test set using Naive Bayes\n",
    "y_pred_nb = model_nb.predict(dfm_test)\n",
    "\n",
    "# Decode predictions back to original labels\n",
    "y_pred_nb_decoded = label_encoder.inverse_transform(y_pred_nb)\n",
    "\n",
    "# Summary of predictions\n",
    "print(\"Naive Bayes Predictions Summary:\")\n",
    "print(pd.Series(y_pred_nb_decoded).value_counts())\n"
   ]
  },
  {
   "cell_type": "code",
   "execution_count": 17,
   "id": "720145c7-fba3-44c7-8696-15779dc7b5e6",
   "metadata": {},
   "outputs": [
    {
     "name": "stdout",
     "output_type": "stream",
     "text": [
      "Naive Bayes Model Class Log Priors:\n",
      "[-0.69209251 -0.69420296]\n",
      "Naive Bayes Model Feature Log Probabilities:\n",
      "[[ -9.38294824  -8.82333245 -10.07609542 ... -10.07609542  -9.15980469\n",
      "  -10.7692426 ]\n",
      " [-10.79677574  -9.41048138 -10.10362856 ... -10.10362856  -9.41048138\n",
      "   -9.69816345]]\n"
     ]
    }
   ],
   "source": [
    "# Summary of the Naive Bayes model\n",
    "print(\"Naive Bayes Model Class Log Priors:\")\n",
    "print(model_nb.class_log_prior_)\n",
    "\n",
    "print(\"Naive Bayes Model Feature Log Probabilities:\")\n",
    "print(model_nb.feature_log_prob_)  # Log probabilities of features per class\n"
   ]
  },
  {
   "cell_type": "markdown",
   "id": "cfad4102-2928-4963-a2b4-ec33a29e4d50",
   "metadata": {},
   "source": [
    "# Predict for test set (SVM)"
   ]
  },
  {
   "cell_type": "code",
   "execution_count": 19,
   "id": "80bfa183-6d9e-4d66-9a28-1fddb757cba1",
   "metadata": {},
   "outputs": [
    {
     "name": "stdout",
     "output_type": "stream",
     "text": [
      "SVM Predictions Summary:\n",
      "negative    1104\n",
      "positive    1029\n",
      "Name: count, dtype: int64\n"
     ]
    }
   ],
   "source": [
    "# Predict for the test set using SVM\n",
    "y_pred_svm = model_svm.predict(dfm_test)\n",
    "\n",
    "# Decode predictions back to original labels\n",
    "y_pred_svm_decoded = label_encoder.inverse_transform(y_pred_svm)\n",
    "\n",
    "# Summary of predictions\n",
    "print(\"SVM Predictions Summary:\")\n",
    "print(pd.Series(y_pred_svm_decoded).value_counts())\n"
   ]
  },
  {
   "cell_type": "markdown",
   "id": "948eb21a-ea6c-48b5-9582-d38fd96321f4",
   "metadata": {},
   "source": [
    "# Precision / Recall / F1 Scores"
   ]
  },
  {
   "cell_type": "markdown",
   "id": "1dc183d0-c0ad-41aa-955f-9b3bae3db05d",
   "metadata": {},
   "source": [
    "$$\n",
    "\\text{Precision} = \\frac{\\text{True Positives (TP)}}{\\text{True Positives (TP)} + \\text{False Positives (FP)}}\n",
    "$$\n",
    "\n",
    "$$\n",
    "\\text{Recall} = \\frac{\\text{True Positives (TP)}}{\\text{True Positives (TP)} + \\text{False Negatives (FN)}}\n",
    "$$\n",
    "\n",
    "\n",
    "$$\n",
    "\\text{F1-Score} = 2 \\cdot \\frac{\\text{Precision} \\cdot \\text{Recall}}{\\text{Precision} + \\text{Recall}}\n",
    "$$\n",
    "\n",
    "\n",
    "$$\n",
    "\\text{Macro F1-Score} = \\frac{1}{C} \\sum_{i=1}^{C} F_1^i\n",
    "$$\n",
    "\n"
   ]
  },
  {
   "cell_type": "code",
   "execution_count": 21,
   "id": "e879d117-d0a2-492e-967b-d339252a2fd7",
   "metadata": {},
   "outputs": [],
   "source": [
    "# Assume y_test is the ground truth and predictions are already made\n",
    "# y_test: True labels for the test set\n",
    "# y_pred_nb: Predictions from Naive Bayes\n",
    "# y_pred_svm: Predictions from SVM\n",
    "\n",
    "def calculate_metrics(y_true, y_pred):\n",
    "    \"\"\"\n",
    "    Function to calculate precision, recall, and F1-score manually.\n",
    "    Args:\n",
    "        y_true (list): True labels.\n",
    "        y_pred (list): Predicted labels.\n",
    "    Returns:\n",
    "        dict: Metrics for each class.\n",
    "    \"\"\"\n",
    "    # Get unique classes\n",
    "    classes = set(y_true)\n",
    "    metrics = {}\n",
    "\n",
    "    for cls in classes:\n",
    "        # True Positives (TP)\n",
    "        tp = sum((y_pred[i] == cls) and (y_true[i] == cls) for i in range(len(y_true)))\n",
    "        # False Positives (FP)\n",
    "        fp = sum((y_pred[i] == cls) and (y_true[i] != cls) for i in range(len(y_true)))\n",
    "        # False Negatives (FN)\n",
    "        fn = sum((y_pred[i] != cls) and (y_true[i] == cls) for i in range(len(y_true)))\n",
    "\n",
    "        # Precision, Recall, F1-Score\n",
    "        precision = tp / (tp + fp) if (tp + fp) > 0 else 0\n",
    "        recall = tp / (tp + fn) if (tp + fn) > 0 else 0\n",
    "        f1_score = 2 * (precision * recall) / (precision + recall) if (precision + recall) > 0 else 0\n",
    "\n",
    "        # Store metrics for the class\n",
    "        metrics[cls] = {\n",
    "            \"Precision\": precision,\n",
    "            \"Recall\": recall,\n",
    "            \"F1-Score\": f1_score\n",
    "        }\n",
    "\n",
    "    return metrics\n"
   ]
  },
  {
   "cell_type": "code",
   "execution_count": 22,
   "id": "c139eb02-b15f-4440-958b-f6774e66c2e6",
   "metadata": {},
   "outputs": [
    {
     "name": "stdout",
     "output_type": "stream",
     "text": [
      "Metrics for Naive Bayes:\n",
      "Class: positive\n",
      "  Precision: 0.77\n",
      "  Recall: 0.76\n",
      "  F1-Score: 0.77\n",
      "Class: negative\n",
      "  Precision: 0.76\n",
      "  Recall: 0.78\n",
      "  F1-Score: 0.77\n",
      "\n",
      "Metrics for SVM:\n",
      "Class: positive\n",
      "  Precision: 0.75\n",
      "  Recall: 0.72\n",
      "  F1-Score: 0.74\n",
      "Class: negative\n",
      "  Precision: 0.73\n",
      "  Recall: 0.76\n",
      "  F1-Score: 0.74\n"
     ]
    }
   ],
   "source": [
    "\n",
    "# Decode y_test to original labels (if necessary)\n",
    "y_test_decoded = label_encoder.inverse_transform(y_test)\n",
    "\n",
    "# Decode predictions to original labels\n",
    "y_pred_nb_decoded = label_encoder.inverse_transform(y_pred_nb)\n",
    "y_pred_svm_decoded = label_encoder.inverse_transform(y_pred_svm)\n",
    "\n",
    "# Calculate metrics for Naive Bayes\n",
    "nb_metrics = calculate_metrics(y_test_decoded, y_pred_nb_decoded)\n",
    "\n",
    "# Calculate metrics for SVM\n",
    "svm_metrics = calculate_metrics(y_test_decoded, y_pred_svm_decoded)\n",
    "\n",
    "# Display results\n",
    "print(\"Metrics for Naive Bayes:\")\n",
    "for cls, scores in nb_metrics.items():\n",
    "    print(f\"Class: {cls}\")\n",
    "    print(f\"  Precision: {scores['Precision']:.2f}\")\n",
    "    print(f\"  Recall: {scores['Recall']:.2f}\")\n",
    "    print(f\"  F1-Score: {scores['F1-Score']:.2f}\")\n",
    "\n",
    "print(\"\\nMetrics for SVM:\")\n",
    "for cls, scores in svm_metrics.items():\n",
    "    print(f\"Class: {cls}\")\n",
    "    print(f\"  Precision: {scores['Precision']:.2f}\")\n",
    "    print(f\"  Recall: {scores['Recall']:.2f}\")\n",
    "    print(f\"  F1-Score: {scores['F1-Score']:.2f}\")"
   ]
  },
  {
   "cell_type": "markdown",
   "id": "dfbb59e4-b7bc-4d86-a1ae-0cd9bc6780b5",
   "metadata": {},
   "source": [
    "# Accuracy"
   ]
  },
  {
   "cell_type": "code",
   "execution_count": 24,
   "id": "51e9dae2-d0cd-421b-8865-bab7f8d467f8",
   "metadata": {},
   "outputs": [
    {
     "name": "stdout",
     "output_type": "stream",
     "text": [
      "Naive Bayes Accuracy: 0.77\n",
      "SVM Accuracy: 0.74\n"
     ]
    }
   ],
   "source": [
    "def compute_accuracy(y_true, y_pred):\n",
    "    \"\"\"\n",
    "    Compute accuracy as the ratio of correctly predicted instances to the total instances.\n",
    "    Args:\n",
    "        y_true (list): True labels.\n",
    "        y_pred (list): Predicted labels.\n",
    "    Returns:\n",
    "        float: Accuracy value.\n",
    "    \"\"\"\n",
    "    # Create a confusion matrix\n",
    "    conf_mat = pd.crosstab(pd.Series(y_true, name=\"Actual\"), pd.Series(y_pred, name=\"Predicted\"))\n",
    "    \n",
    "    # Extract diagonal (correctly predicted instances)\n",
    "    correct_predictions = conf_mat.to_numpy().diagonal().sum()\n",
    "    total_instances = conf_mat.to_numpy().sum()\n",
    "    \n",
    "    # Calculate accuracy\n",
    "    accuracy = correct_predictions / total_instances\n",
    "    return accuracy\n",
    "\n",
    "# Example usage with Naive Bayes predictions\n",
    "accuracy_nb = compute_accuracy(y_test_decoded, y_pred_nb_decoded)\n",
    "print(f\"Naive Bayes Accuracy: {accuracy_nb:.2f}\")\n",
    "\n",
    "# Example usage with SVM predictions\n",
    "accuracy_svm = compute_accuracy(y_test_decoded, y_pred_svm_decoded)\n",
    "print(f\"SVM Accuracy: {accuracy_svm:.2f}\")\n"
   ]
  },
  {
   "cell_type": "code",
   "execution_count": null,
   "id": "4f070309-0cc1-4299-987a-db9cc82fd426",
   "metadata": {},
   "outputs": [],
   "source": [
    "!pip install matplotlib seaborn\n",
    "\n",
    "import matplotlib.pyplot as plt\n",
    "import seaborn as sns\n",
    "import numpy as np"
   ]
  },
  {
   "cell_type": "code",
   "execution_count": 28,
   "id": "5bf7533b-b115-4562-b0b4-a7fe0179eb44",
   "metadata": {},
   "outputs": [
    {
     "data": {
      "image/png": "[encoded data removed]",
      "text/plain": [
       "<Figure size 800x600 with 2 Axes>"
      ]
     },
     "metadata": {},
     "output_type": "display_data"
    },
    {
     "data": {
      "image/png": "[encoded data removed]",
      "text/plain": [
       "<Figure size 800x600 with 2 Axes>"
      ]
     },
     "metadata": {},
     "output_type": "display_data"
    }
   ],
   "source": [
    "\n",
    "\n",
    "def plot_confusion_matrix(y_true, y_pred, color=\"Blues\"):\n",
    "    \"\"\"\n",
    "    Plot a confusion matrix as a heatmap.\n",
    "    Args:\n",
    "        y_true (list): True labels.\n",
    "        y_pred (list): Predicted labels.\n",
    "        color (str): Color scheme for the heatmap.\n",
    "    Returns:\n",
    "        None\n",
    "    \"\"\"\n",
    "    # Create a confusion matrix\n",
    "    conf_mat = pd.crosstab(pd.Series(y_true, name=\"Actual\"), pd.Series(y_pred, name=\"Predicted\"))\n",
    "    \n",
    "    # Normalize rows to proportions\n",
    "    conf_mat_normalized = conf_mat.div(conf_mat.sum(axis=1), axis=0)\n",
    "    \n",
    "    # Plot heatmap\n",
    "    plt.figure(figsize=(8, 6))\n",
    "    sns.heatmap(conf_mat_normalized, annot=True, fmt=\".2f\", cmap=color, cbar=True, linewidths=1, linecolor=\"gray\")\n",
    "    plt.title(\"Confusion Matrix\")\n",
    "    plt.xlabel(\"Predicted Labels\")\n",
    "    plt.ylabel(\"True Labels\")\n",
    "    plt.show()\n",
    "\n",
    "# Example usage with Naive Bayes predictions\n",
    "plot_confusion_matrix(y_test_decoded, y_pred_nb_decoded, color=\"Blues\")\n",
    "\n",
    "# Example usage with SVM predictions\n",
    "plot_confusion_matrix(y_test_decoded, y_pred_svm_decoded, color=\"Greens\")\n"
   ]
  },
  {
   "cell_type": "markdown",
   "id": "75631134-1113-4e86-800c-79f4845e18e3",
   "metadata": {},
   "source": [
    "# K-Fold Cross-Validation"
   ]
  },
  {
   "cell_type": "code",
   "execution_count": 29,
   "id": "ec88ab56-5db2-4b7d-9f93-4e2dfc203897",
   "metadata": {},
   "outputs": [
    {
     "name": "stdout",
     "output_type": "stream",
     "text": [
      "Naive Bayes Cross-Validation Metrics: {'Precision': np.float64(0.7646890752179375), 'Recall': np.float64(0.7658833326222896), 'F1-Score': np.float64(0.7652101494347843), 'Accuracy': np.float64(0.7651471691607536)}\n",
      "SVM Cross-Validation Metrics: {'Precision': np.float64(0.720798769263922), 'Recall': np.float64(0.7341462863477899), 'F1-Score': np.float64(0.7272462815420113), 'Accuracy': np.float64(0.7249109631635103)}\n"
     ]
    }
   ],
   "source": [
    "import numpy as np\n",
    "from sklearn.model_selection import KFold\n",
    "from sklearn.naive_bayes import MultinomialNB\n",
    "from sklearn.svm import LinearSVC\n",
    "\n",
    "def k_fold_cross_validation(model, X, y, k=5):\n",
    "    \"\"\"\n",
    "    Perform k-fold cross-validation.\n",
    "    Args:\n",
    "        model: Machine learning model (e.g., Naive Bayes or SVM).\n",
    "        X: Document-term matrix (features).\n",
    "        y: Target labels.\n",
    "        k: Number of folds for cross-validation.\n",
    "    Returns:\n",
    "        dict: Average precision, recall, F1-score, and accuracy across all folds.\n",
    "    \"\"\"\n",
    "    # Initialize KFold\n",
    "    kf = KFold(n_splits=k, shuffle=True, random_state=42)\n",
    "    \n",
    "    # Initialize metrics\n",
    "    precision_scores = []\n",
    "    recall_scores = []\n",
    "    f1_scores = []\n",
    "    accuracy_scores = []\n",
    "    \n",
    "    for train_index, test_index in kf.split(X):\n",
    "        # Split data into training and testing sets\n",
    "        X_train, X_test = X[train_index], X[test_index]\n",
    "        y_train, y_test = y[train_index], y[test_index]\n",
    "        \n",
    "        # Train the model\n",
    "        model.fit(X_train, y_train)\n",
    "        \n",
    "        # Predict on the test set\n",
    "        y_pred = model.predict(X_test)\n",
    "        \n",
    "        # Compute metrics\n",
    "        tp = sum((y_pred == y_test) & (y_test == 1))  # True positives\n",
    "        fp = sum((y_pred == 1) & (y_test == 0))       # False positives\n",
    "        fn = sum((y_pred == 0) & (y_test == 1))       # False negatives\n",
    "        tn = sum((y_pred == y_test) & (y_test == 0))  # True negatives\n",
    "        \n",
    "        precision = tp / (tp + fp) if (tp + fp) > 0 else 0\n",
    "        recall = tp / (tp + fn) if (tp + fn) > 0 else 0\n",
    "        f1 = 2 * precision * recall / (precision + recall) if (precision + recall) > 0 else 0\n",
    "        accuracy = (tp + tn) / (tp + tn + fp + fn)\n",
    "        \n",
    "        # Store metrics for this fold\n",
    "        precision_scores.append(precision)\n",
    "        recall_scores.append(recall)\n",
    "        f1_scores.append(f1)\n",
    "        accuracy_scores.append(accuracy)\n",
    "    \n",
    "    # Compute average metrics across all folds\n",
    "    return {\n",
    "        \"Precision\": np.mean(precision_scores),\n",
    "        \"Recall\": np.mean(recall_scores),\n",
    "        \"F1-Score\": np.mean(f1_scores),\n",
    "        \"Accuracy\": np.mean(accuracy_scores)\n",
    "    }\n",
    "\n",
    "# Example Usage\n",
    "# Encode labels (if not already numeric)\n",
    "y_encoded = label_encoder.transform(reviews['polarity'])\n",
    "\n",
    "# Naive Bayes\n",
    "nb_model = MultinomialNB()\n",
    "nb_metrics = k_fold_cross_validation(nb_model, dfm_reviews, y_encoded, k=5)\n",
    "print(\"Naive Bayes Cross-Validation Metrics:\", nb_metrics)\n",
    "\n",
    "# SVM\n",
    "svm_model = LinearSVC()\n",
    "svm_metrics = k_fold_cross_validation(svm_model, dfm_reviews, y_encoded, k=5)\n",
    "print(\"SVM Cross-Validation Metrics:\", svm_metrics)\n"
   ]
  },
  {
   "cell_type": "markdown",
   "id": "df41fa25-ae8d-4303-8d4c-f7d8e85e1abe",
   "metadata": {},
   "source": [
    "# Area Under PR-Curve"
   ]
  },
  {
   "cell_type": "code",
   "execution_count": 32,
   "id": "0d3d5329-7956-4ccd-869d-756aa4361ea1",
   "metadata": {},
   "outputs": [],
   "source": [
    "import numpy as np\n",
    "\n",
    "def precision_recall_curve(y_true, y_scores):\n",
    "    \"\"\"\n",
    "    Compute precision-recall curve points.\n",
    "    Args:\n",
    "        y_true (list or np.array): True binary labels (0 or 1).\n",
    "        y_scores (list or np.array): Predicted scores or probabilities.\n",
    "    Returns:\n",
    "        tuple: Precision, recall, and thresholds.\n",
    "    \"\"\"\n",
    "    # Sort by descending scores\n",
    "    sorted_indices = np.argsort(-y_scores)\n",
    "    y_true_sorted = np.array(y_true)[sorted_indices]\n",
    "    y_scores_sorted = np.array(y_scores)[sorted_indices]\n",
    "    \n",
    "    # Initialize variables\n",
    "    tp = 0\n",
    "    fp = 0\n",
    "    fn = sum(y_true)  # All positives initially not predicted\n",
    "    precision = []\n",
    "    recall = []\n",
    "    thresholds = []\n",
    "\n",
    "    # Iterate over sorted scores\n",
    "    for i, score in enumerate(y_scores_sorted):\n",
    "        if y_true_sorted[i] == 1:\n",
    "            tp += 1  # True positive\n",
    "            fn -= 1  # One less false negative\n",
    "        else:\n",
    "            fp += 1  # False positive\n",
    "        \n",
    "        # Compute precision and recall\n",
    "        prec = tp / (tp + fp) if (tp + fp) > 0 else 0\n",
    "        rec = tp / (tp + fn) if (tp + fn) > 0 else 0\n",
    "        precision.append(prec)\n",
    "        recall.append(rec)\n",
    "        thresholds.append(score)\n",
    "    \n",
    "    return np.array(precision), np.array(recall), np.array(thresholds)\n",
    "\n",
    "def auc_pr(recall, precision):\n",
    "    \"\"\"\n",
    "    Compute the area under the precision-recall curve.\n",
    "    Args:\n",
    "        recall (np.array): Recall values.\n",
    "        precision (np.array): Precision values.\n",
    "    Returns:\n",
    "        float: Area under the curve.\n",
    "    \"\"\"\n",
    "    return np.trapezoid(precision, recall)  # Use the trapezoidal rule\n"
   ]
  },
  {
   "cell_type": "code",
   "execution_count": 33,
   "id": "07f15eb4-27fb-49e5-80e9-dcc963c9a2a4",
   "metadata": {},
   "outputs": [
    {
     "name": "stdout",
     "output_type": "stream",
     "text": [
      "Naive Bayes AUC-PR: 0.83\n",
      "SVM AUC-PR: 0.78\n"
     ]
    }
   ],
   "source": [
    "# Get probabilities or decision scores from models\n",
    "# Naive Bayes provides probabilities\n",
    "y_scores_nb = model_nb.predict_proba(dfm_test)[:, 1]  # Probabilities for the positive class\n",
    "y_true = y_test  # Ground truth labels (binary: 0 or 1)\n",
    "\n",
    "# SVM provides decision function scores (not probabilities)\n",
    "y_scores_svm = model_svm.decision_function(dfm_test)  # Decision scores\n",
    "\n",
    "# Compute Precision-Recall curve for Naive Bayes\n",
    "precision_nb, recall_nb, thresholds_nb = precision_recall_curve(y_true, y_scores_nb)\n",
    "auc_pr_nb = auc_pr(recall_nb, precision_nb)\n",
    "print(f\"Naive Bayes AUC-PR: {auc_pr_nb:.2f}\")\n",
    "\n",
    "# Compute Precision-Recall curve for SVM\n",
    "precision_svm, recall_svm, thresholds_svm = precision_recall_curve(y_true, y_scores_svm)\n",
    "auc_pr_svm = auc_pr(recall_svm, precision_svm)\n",
    "print(f\"SVM AUC-PR: {auc_pr_svm:.2f}\")"
   ]
  },
  {
   "cell_type": "code",
   "execution_count": 34,
   "id": "76d7fdb2-3dae-4502-9dd7-00b719a8a885",
   "metadata": {},
   "outputs": [
    {
     "data": {
      "image/png": "[encoded data removed]",
      "text/plain": [
       "<Figure size 800x600 with 1 Axes>"
      ]
     },
     "metadata": {},
     "output_type": "display_data"
    }
   ],
   "source": [
    "import matplotlib.pyplot as plt\n",
    "\n",
    "# Plot Precision-Recall Curve\n",
    "plt.figure(figsize=(8, 6))\n",
    "plt.plot(recall_nb, precision_nb, label=f\"Naive Bayes (AUC-PR: {auc_pr_nb:.2f})\")\n",
    "plt.plot(recall_svm, precision_svm, label=f\"SVM (AUC-PR: {auc_pr_svm:.2f})\")\n",
    "plt.xlabel(\"Recall\")\n",
    "plt.ylabel(\"Precision\")\n",
    "plt.title(\"Precision-Recall Curve\")\n",
    "plt.legend()\n",
    "plt.grid()\n",
    "plt.show()"
   ]
  },
  {
   "cell_type": "markdown",
   "id": "52e1abe4-ecef-4aec-a15d-276fec799eac",
   "metadata": {},
   "source": [
    "# Base Python NB Classifier"
   ]
  },
  {
   "cell_type": "code",
   "execution_count": 36,
   "id": "3768d2ab-eb19-4921-9966-b11bf21980ad",
   "metadata": {},
   "outputs": [],
   "source": [
    "from collections import defaultdict\n",
    "import math\n",
    "\n",
    "class NaiveBayesClassifier:\n",
    "    def __init__(self):\n",
    "        self.classes = set()  # Set of unique classes\n",
    "        self.word_counts = defaultdict(lambda: defaultdict(int))  # Word frequency per class\n",
    "        self.class_counts = defaultdict(int)  # Total word count per class\n",
    "        self.total_docs = 0  # Total number of documents\n",
    "        self.doc_counts = defaultdict(int)  # Document count per class\n",
    "    \n",
    "    def train(self, X, y):\n",
    "        \"\"\"\n",
    "        Train the Naive Bayes classifier.\n",
    "        \n",
    "        Parameters:\n",
    "            X (list of lists): List of documents, each represented as a list of words.\n",
    "            y (list): Corresponding class labels for each document.\n",
    "        \"\"\"\n",
    "        self.total_docs = len(y)\n",
    "        self.classes = set(y)\n",
    "        \n",
    "        for text, label in zip(X, y):\n",
    "            self.doc_counts[label] += 1\n",
    "            for word in text:\n",
    "                self.word_counts[label][word] += 1\n",
    "                self.class_counts[label] += 1\n",
    "    \n",
    "    def predict(self, text):\n",
    "        \"\"\"\n",
    "        Predict the class for a given text.\n",
    "        \n",
    "        Parameters:\n",
    "            text (list): A document represented as a list of words.\n",
    "        \n",
    "        Returns:\n",
    "            str: The predicted class label.\n",
    "        \"\"\"\n",
    "        log_probs = {}\n",
    "        total_words = sum(self.class_counts.values())\n",
    "        \n",
    "        for c in self.classes:\n",
    "            # Log of the prior probability P(Class)\n",
    "            log_prior = math.log(self.doc_counts[c] / self.total_docs)\n",
    "            \n",
    "            # Log of the likelihood P(Text|Class)\n",
    "            log_likelihood = 0\n",
    "            for word in text:\n",
    "                word_count = self.word_counts[c][word] + 1  # Add-1 smoothing\n",
    "                class_word_total = self.class_counts[c] + total_words  # Total words in class + smoothing\n",
    "                log_likelihood += math.log(word_count / class_word_total)\n",
    "            \n",
    "            log_probs[c] = log_prior + log_likelihood\n",
    "        \n",
    "        # Return the class with the highest posterior probability\n",
    "        return max(log_probs, key=log_probs.get)\n"
   ]
  },
  {
   "cell_type": "code",
   "execution_count": 37,
   "id": "5f27a567-168b-4a71-a72a-5e75e13c4c00",
   "metadata": {},
   "outputs": [
    {
     "name": "stderr",
     "output_type": "stream",
     "text": [
      "[nltk_data] Downloading package stopwords to\n",
      "[nltk_data]     /Users/petrotolochko/nltk_data...\n",
      "[nltk_data]   Package stopwords is already up-to-date!\n",
      "[nltk_data] Downloading package punkt to\n",
      "[nltk_data]     /Users/petrotolochko/nltk_data...\n",
      "[nltk_data]   Package punkt is already up-to-date!\n"
     ]
    },
    {
     "name": "stdout",
     "output_type": "stream",
     "text": [
      "Accuracy: 0.7585560243788092\n",
      "Classification Report:\n",
      "               precision    recall  f1-score   support\n",
      "\n",
      "    negative       0.77      0.75      0.76      1071\n",
      "    positive       0.75      0.77      0.76      1062\n",
      "\n",
      "    accuracy                           0.76      2133\n",
      "   macro avg       0.76      0.76      0.76      2133\n",
      "weighted avg       0.76      0.76      0.76      2133\n",
      "\n"
     ]
    }
   ],
   "source": [
    "from sklearn.model_selection import train_test_split\n",
    "from sklearn.metrics import classification_report, accuracy_score\n",
    "import nltk\n",
    "\n",
    "# Assuming reviews['text'] contains the text and reviews['polarity'] contains the labels\n",
    "nltk.download('stopwords')\n",
    "nltk.download('punkt')\n",
    "from nltk.corpus import stopwords\n",
    "from nltk.tokenize import word_tokenize\n",
    "\n",
    "# Step 1: Preprocess the text\n",
    "stop_words = set(stopwords.words('english'))\n",
    "\n",
    "def preprocess(text):\n",
    "    # Tokenize, remove punctuation and stop words, and lowercase\n",
    "    tokens = word_tokenize(text)\n",
    "    tokens = [word.lower() for word in tokens if word.isalpha()]  # Keep only alphabetic tokens\n",
    "    tokens = [word for word in tokens if word not in stop_words]  # Remove stopwords\n",
    "    return tokens\n",
    "\n",
    "# Apply preprocessing\n",
    "reviews['processed_text'] = reviews['text'].apply(preprocess)\n",
    "\n",
    "# Step 2: Split the data into training and testing sets\n",
    "X = reviews['processed_text'].tolist()  # List of tokenized documents\n",
    "y = reviews['polarity'].tolist()        # List of labels\n",
    "\n",
    "X_train, X_test, y_train, y_test = train_test_split(X, y, test_size=0.2, random_state=42)\n",
    "\n",
    "# Step 3: Initialize and train the classifier\n",
    "nb_classifier = NaiveBayesClassifier()\n",
    "nb_classifier.train(X_train, y_train)\n",
    "\n",
    "# Step 4: Make predictions\n",
    "y_pred = [nb_classifier.predict(text) for text in X_test]\n",
    "\n",
    "# Step 5: Evaluate the model\n",
    "print(\"Accuracy:\", accuracy_score(y_test, y_pred))\n",
    "print(\"Classification Report:\\n\", classification_report(y_test, y_pred))\n"
   ]
  },
  {
   "cell_type": "code",
   "execution_count": null,
   "id": "1f7b53ab-2219-44f8-8c72-12d709b7aa67",
   "metadata": {},
   "outputs": [],
   "source": []
  }
 ],
 "metadata": {
  "kernelspec": {
   "display_name": "Python 3 (ipykernel)",
   "language": "python",
   "name": "python3"
  },
  "language_info": {
   "codemirror_mode": {
    "name": "ipython",
    "version": 3
   },
   "file_extension": ".py",
   "mimetype": "text/x-python",
   "name": "python",
   "nbconvert_exporter": "python",
   "pygments_lexer": "ipython3",
   "version": "3.12.7"
  }
 },
 "nbformat": 4,
 "nbformat_minor": 5
}
